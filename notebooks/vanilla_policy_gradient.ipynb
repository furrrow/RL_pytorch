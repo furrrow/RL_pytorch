{
 "cells": [
  {
   "cell_type": "markdown",
   "source": [
    "# VPG\n",
    "Based on Miguels Vanilla Policy Gradient (aka REINFORCE with baseline)\n",
    "- Ues action-advantage function\n",
    "- uses entropy to encourage more even distribution and encourage exploration "
   ],
   "metadata": {
    "collapsed": false
   },
   "id": "3f13777a6d5f08f3"
  },
  {
   "cell_type": "code",
   "execution_count": 1,
   "outputs": [],
   "source": [
    "import torch\n",
    "import torch.nn as nn\n",
    "import torch.nn.functional as F\n",
    "from torch.distributions.categorical import Categorical\n",
    "import numpy as np\n",
    "import gymnasium as gym\n",
    "from gymnasium.spaces import Discrete, Box\n",
    "import matplotlib.pyplot as plt\n",
    "from tqdm import tqdm"
   ],
   "metadata": {
    "collapsed": false,
    "ExecuteTime": {
     "end_time": "2023-12-12T19:41:40.376321118Z",
     "start_time": "2023-12-12T19:41:39.274384899Z"
    }
   },
   "id": "53797694dbc220c7"
  },
  {
   "cell_type": "code",
   "execution_count": 2,
   "outputs": [
    {
     "name": "stdout",
     "output_type": "stream",
     "text": [
      "using cuda\n"
     ]
    }
   ],
   "source": [
    "# CUDA for 500 episodes: 60 - 80 seconds \n",
    "# CPU for 500 episodes: ~30 seconds\n",
    "# for small workloads CPU only will be faster\n",
    "device = torch.device(\"cuda\" if torch.cuda.is_available() else \"cpu\")\n",
    "device = \"cpu\"\n",
    "print(\"using\", device)\n",
    "# !nvidia-smi"
   ],
   "metadata": {
    "collapsed": false,
    "ExecuteTime": {
     "end_time": "2023-12-12T19:41:41.230881363Z",
     "start_time": "2023-12-12T19:41:41.223669026Z"
    }
   },
   "id": "5d0a3f2e255c1502"
  },
  {
   "cell_type": "code",
   "execution_count": 3,
   "outputs": [],
   "source": [
    "class SimpleModel(nn.Module):\n",
    "\n",
    "    def __init__(self, in_features, outputs):\n",
    "        super(SimpleModel, self).__init__()\n",
    "        self.linear1 = nn.Linear(in_features, 32)\n",
    "        self.linear2 = nn.Linear(32, 32)\n",
    "        self.final = nn.Linear(32, outputs)\n",
    "        self.device = torch.device(device)\n",
    "        self.to(self.device)\n",
    "\n",
    "    def _format(self, state):\n",
    "        x = state\n",
    "        if not isinstance(x, torch.Tensor):\n",
    "            x = torch.tensor(x,\n",
    "                             device=self.device,\n",
    "                             dtype=torch.float32)\n",
    "            x = x.unsqueeze(0)\n",
    "        return x\n",
    "\n",
    "    def forward(self, x):\n",
    "        x = self._format(x)\n",
    "        x = F.relu(self.linear1(x))\n",
    "        x = F.relu(self.linear2(x))\n",
    "        x = self.final(x)\n",
    "        return x"
   ],
   "metadata": {
    "collapsed": false,
    "ExecuteTime": {
     "end_time": "2023-12-12T19:41:42.131649366Z",
     "start_time": "2023-12-12T19:41:42.129270472Z"
    }
   },
   "id": "54bf6c0bae274adc"
  },
  {
   "cell_type": "code",
   "execution_count": 4,
   "outputs": [
    {
     "name": "stdout",
     "output_type": "stream",
     "text": [
      "action space: Discrete(2)\n",
      "observation space: Box([-4.8000002e+00 -3.4028235e+38 -4.1887903e-01 -3.4028235e+38], [4.8000002e+00 3.4028235e+38 4.1887903e-01 3.4028235e+38], (4,), float32)\n",
      "observation: [ 0.0273956  -0.00611216  0.03585979  0.0197368 ]\n",
      "info {}\n"
     ]
    },
    {
     "data": {
      "text/plain": "SimpleModel(\n  (linear1): Linear(in_features=4, out_features=32, bias=True)\n  (linear2): Linear(in_features=32, out_features=32, bias=True)\n  (final): Linear(in_features=32, out_features=1, bias=True)\n)"
     },
     "execution_count": 4,
     "metadata": {},
     "output_type": "execute_result"
    }
   ],
   "source": [
    "env = gym.make(\"CartPole-v1\")\n",
    "n_states = env.observation_space.shape[0]\n",
    "n_action = env.action_space.n\n",
    "print(\"action space:\", env.action_space)\n",
    "print(\"observation space:\", env.observation_space)\n",
    "observation, info = env.reset(seed=42)\n",
    "print(\"observation:\", observation)\n",
    "print(\"info\", info)\n",
    "policy_model = SimpleModel(n_states, n_action)\n",
    "value_model = SimpleModel(n_states, 1)\n",
    "value_model"
   ],
   "metadata": {
    "collapsed": false,
    "ExecuteTime": {
     "end_time": "2023-12-12T19:41:42.752201445Z",
     "start_time": "2023-12-12T19:41:42.667921749Z"
    }
   },
   "id": "3d856a49d37ad344"
  },
  {
   "cell_type": "code",
   "execution_count": 5,
   "outputs": [
    {
     "name": "stderr",
     "output_type": "stream",
     "text": [
      "100%|██████████| 500/500 [01:04<00:00,  7.74it/s]\n"
     ]
    }
   ],
   "source": [
    "n_episodes = 500\n",
    "reward_record = []\n",
    "avg_record = []\n",
    "learning_rate = 0.001\n",
    "gamma=0.99\n",
    "solved = False\n",
    "policy_optimizer = torch.optim.Adam(policy_model.parameters(), lr=learning_rate)\n",
    "value_optimizer = torch.optim.Adam(value_model.parameters(), lr=learning_rate)\n",
    "for episode in tqdm(range(n_episodes)):\n",
    "    state, info = env.reset()\n",
    "    terminated = False\n",
    "    truncated = False\n",
    "    episode_rewards = []\n",
    "    episode_log_p_a = []\n",
    "    episode_entropy = []\n",
    "    episode_values = []\n",
    "    if solved:\n",
    "        print(\"solved!\")\n",
    "    while not (terminated or truncated):\n",
    "        # execute episode\n",
    "        logits = policy_model.forward(state)\n",
    "        value = value_model.forward(state)\n",
    "        policy = torch.distributions.Categorical(logits=logits)\n",
    "        action_tensor = policy.sample()\n",
    "        log_prob_action = policy.log_prob(action_tensor)\n",
    "        episode_log_p_a.append(log_prob_action)\n",
    "        episode_entropy.append(policy.entropy())\n",
    "        episode_values.append(value)\n",
    "        state, reward, terminated, truncated, info = env.step(action_tensor.item())\n",
    "        episode_rewards.append(reward)\n",
    "        \n",
    "    # calculate loss\n",
    "    T = len(episode_rewards)\n",
    "    discount_vector = np.logspace(0, T, num=T, base=gamma, endpoint=False)\n",
    "    returns = []\n",
    "    for t in range(T):\n",
    "        returns.append(np.sum(discount_vector[:(T-t)] * episode_rewards[t:]))\n",
    "    episode_log_p_a = torch.cat(episode_log_p_a)\n",
    "    values = torch.cat(episode_values).to(device)\n",
    "    returns = torch.tensor(returns).to(device)\n",
    "    entropies = torch.tensor(episode_entropy).to(device)\n",
    "    discount_vector = torch.tensor(discount_vector).to(device)\n",
    "    \n",
    "    # optimize\n",
    "    value_error = returns - values\n",
    "    # multiply by discount optional\n",
    "    policy_loss = -(episode_log_p_a * value_error.detach() * discount_vector).mean()\n",
    "    entropy_loss = -entropies.mean()\n",
    "    loss = policy_loss + entropy_loss\n",
    "    policy_optimizer.zero_grad()\n",
    "    loss.backward()\n",
    "    policy_optimizer.step()\n",
    "    value_loss = value_error.pow(2).mul(0.5).mean()\n",
    "    value_optimizer.zero_grad()\n",
    "    value_loss.backward()\n",
    "    value_optimizer.step()\n",
    "    # print(f\"episode: {episode}, loss: {loss.item():4.3f}, reward: {np.sum(episode_rewards)}\")\n",
    "    reward_record.append(np.sum(episode_rewards))\n",
    "    rolling_average = np.mean(reward_record[-100:])\n",
    "    avg_record.append(rolling_average)"
   ],
   "metadata": {
    "collapsed": false,
    "ExecuteTime": {
     "end_time": "2023-12-12T19:42:48.247911626Z",
     "start_time": "2023-12-12T19:41:43.422628458Z"
    }
   },
   "id": "fa14e43356ca8318"
  },
  {
   "cell_type": "code",
   "execution_count": 6,
   "outputs": [],
   "source": [
    "# CUDA for 500 episodes: 60 - 80 seconds \n",
    "# CPU for 500 episodes: ~30 seconds"
   ],
   "metadata": {
    "collapsed": false,
    "ExecuteTime": {
     "end_time": "2023-12-12T19:42:48.248122776Z",
     "start_time": "2023-12-12T19:42:48.245324057Z"
    }
   },
   "id": "2123f92a0b950c7a"
  },
  {
   "cell_type": "code",
   "execution_count": 7,
   "outputs": [
    {
     "data": {
      "text/plain": "<matplotlib.legend.Legend at 0x7fab74f59f50>"
     },
     "execution_count": 7,
     "metadata": {},
     "output_type": "execute_result"
    },
    {
     "data": {
      "text/plain": "<Figure size 640x480 with 1 Axes>",
      "image/png": "[encoded data removed]"
     },
     "metadata": {},
     "output_type": "display_data"
    }
   ],
   "source": [
    "plt.plot(avg_record, label='100 episode rolling avg')\n",
    "plt.plot(reward_record, alpha=0.7, label='rewards')\n",
    "plt.legend()"
   ],
   "metadata": {
    "collapsed": false,
    "ExecuteTime": {
     "end_time": "2023-12-12T19:42:48.370333205Z",
     "start_time": "2023-12-12T19:42:48.247141689Z"
    }
   },
   "id": "11ee710300ca9d9d"
  },
  {
   "cell_type": "code",
   "execution_count": 54,
   "outputs": [],
   "source": [
    "# evaluate\n",
    "env = gym.make('CartPole-v1', render_mode=\"human\")\n",
    "state, info = env.reset()\n",
    "policy_model.eval()\n",
    "for _ in range(3):\n",
    "    terminated, truncated = False, False\n",
    "    while not (terminated or truncated):\n",
    "        logits = policy_model.forward(state)\n",
    "        # policy = torch.distributions.Categorical(logits=logits)\n",
    "        # action_tensor = policy.sample()\n",
    "        greedy_action = torch.argmax(logits)\n",
    "        state, reward, terminated, truncated, info = env.step(greedy_action.item())\n",
    "    observation, info = env.reset()\n",
    "\n",
    "env.close()"
   ],
   "metadata": {
    "collapsed": false,
    "ExecuteTime": {
     "end_time": "2023-12-12T19:41:31.388769979Z",
     "start_time": "2023-12-12T19:41:04.865447704Z"
    }
   },
   "id": "f15e3191ce39c2dd"
  },
  {
   "cell_type": "code",
   "execution_count": null,
   "outputs": [],
   "source": [],
   "metadata": {
    "collapsed": false
   },
   "id": "537ae4b45b182a5f"
  }
 ],
 "metadata": {
  "kernelspec": {
   "display_name": "Python 3",
   "language": "python",
   "name": "python3"
  },
  "language_info": {
   "codemirror_mode": {
    "name": "ipython",
    "version": 2
   },
   "file_extension": ".py",
   "mimetype": "text/x-python",
   "name": "python",
   "nbconvert_exporter": "python",
   "pygments_lexer": "ipython2",
   "version": "2.7.6"
  }
 },
 "nbformat": 4,
 "nbformat_minor": 5
}
