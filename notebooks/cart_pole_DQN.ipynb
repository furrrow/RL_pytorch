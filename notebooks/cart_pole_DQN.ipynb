{
 "cells": [
  {
   "cell_type": "markdown",
   "id": "f4e29e56-1ff6-4cf6-b368-86a1d7428532",
   "metadata": {
    "pycharm": {
     "name": "#%% md\n"
    }
   },
   "source": [
    "# DQN test with pytorch\n",
    "\n",
    "From Miguel's Book, combined with my old code.\n",
    "\n",
    "https://github.com/furrrow/CS7642/blob/master/Project%204/cartpole/Cartpole_DQN.ipynb\n",
    "\n",
    "https://github.com/mimoralea/gdrl/blob/master/notebooks/chapter_09/chapter-09.ipynb"
   ]
  },
  {
   "cell_type": "code",
   "execution_count": 1,
   "id": "69e6b3fe-abac-4406-b085-37477b80ff01",
   "metadata": {
    "pycharm": {
     "name": "#%%\n"
    }
   },
   "outputs": [],
   "source": [
    "# will take some of miguel's import statements, but not all.\n",
    "import gym\n",
    "import math\n",
    "import random\n",
    "import numpy as np\n",
    "import matplotlib.pyplot as plt\n",
    "from collections import namedtuple, deque\n",
    "from itertools import count\n",
    "from PIL import Image\n",
    "import copy\n",
    "\n",
    "import torch\n",
    "import torch.nn as nn\n",
    "import torch.optim as optim\n",
    "import torch.nn.functional as F\n",
    "from torchinfo import summary"
   ]
  },
  {
   "cell_type": "code",
   "execution_count": 3,
   "id": "1f2b5e2f-9703-453c-8657-90e8c7a0a1d0",
   "metadata": {
    "pycharm": {
     "name": "#%%\n"
    }
   },
   "outputs": [
    {
     "name": "stdout",
     "output_type": "stream",
     "text": [
      "Fri Jul  8 12:27:51 2022       \r\n",
      "+-----------------------------------------------------------------------------+\r\n",
      "| NVIDIA-SMI 510.73.05    Driver Version: 510.73.05    CUDA Version: 11.6     |\r\n",
      "|-------------------------------+----------------------+----------------------+\r\n",
      "| GPU  Name        Persistence-M| Bus-Id        Disp.A | Volatile Uncorr. ECC |\r\n",
      "| Fan  Temp  Perf  Pwr:Usage/Cap|         Memory-Usage | GPU-Util  Compute M. |\r\n",
      "|                               |                      |               MIG M. |\r\n",
      "|===============================+======================+======================|\r\n",
      "|   0  NVIDIA GeForce ...  Off  | 00000000:07:00.0  On |                  N/A |\r\n",
      "|  6%   62C    P2    42W / 151W |   1112MiB /  8192MiB |      6%      Default |\r\n",
      "|                               |                      |                  N/A |\r\n",
      "+-------------------------------+----------------------+----------------------+\r\n",
      "                                                                               \r\n",
      "+-----------------------------------------------------------------------------+\r\n",
      "| Processes:                                                                  |\r\n",
      "|  GPU   GI   CI        PID   Type   Process name                  GPU Memory |\r\n",
      "|        ID   ID                                                   Usage      |\r\n",
      "|=============================================================================|\r\n",
      "|    0   N/A  N/A      1606      G   /usr/lib/xorg/Xorg                209MiB |\r\n",
      "|    0   N/A  N/A      1818      G   /usr/bin/gnome-shell               38MiB |\r\n",
      "|    0   N/A  N/A      8088      G   ...AAAAAAAAA= --shared-files       15MiB |\r\n",
      "|    0   N/A  N/A     17149      G   firefox                           136MiB |\r\n",
      "|    0   N/A  N/A     19440      G   ...RendererForSitePerProcess       33MiB |\r\n",
      "|    0   N/A  N/A     21968      C   ...da3/envs/torch/bin/python      673MiB |\r\n",
      "+-----------------------------------------------------------------------------+\r\n"
     ]
    }
   ],
   "source": [
    "# don't forget the nvidia smi command\n",
    "!nvidia-smi"
   ]
  },
  {
   "cell_type": "code",
   "execution_count": 4,
   "id": "d8bf2d5e-d354-49e7-b5d5-3f72f12eb62e",
   "metadata": {
    "pycharm": {
     "name": "#%%\n"
    }
   },
   "outputs": [
    {
     "data": {
      "text/plain": "True"
     },
     "execution_count": 4,
     "metadata": {},
     "output_type": "execute_result"
    }
   ],
   "source": [
    "device = torch.device(\"cuda\" if torch.cuda.is_available() else \"cpu\")\n",
    "torch.cuda.is_available()"
   ]
  },
  {
   "cell_type": "code",
   "execution_count": 5,
   "id": "06aac150-7a48-4b22-bcdf-033183f7c363",
   "metadata": {
    "pycharm": {
     "name": "#%%\n"
    }
   },
   "outputs": [
    {
     "name": "stdout",
     "output_type": "stream",
     "text": [
      "action space: Discrete(2)\n",
      "observation space: Box([-4.8000002e+00 -3.4028235e+38 -4.1887903e-01 -3.4028235e+38], [4.8000002e+00 3.4028235e+38 4.1887903e-01 3.4028235e+38], (4,), float32)\n",
      "input shape: (4,)\n"
     ]
    },
    {
     "data": {
      "text/plain": "array([-0.03817999,  0.00834115,  0.01671322,  0.02833405], dtype=float32)"
     },
     "execution_count": 5,
     "metadata": {},
     "output_type": "execute_result"
    }
   ],
   "source": [
    "\"\"\"\n",
    "Description:\n",
    "    A pole is attached by an un-actuated joint to a cart, which moves along\n",
    "    a frictionless track. The pendulum starts upright, and the goal is to\n",
    "    prevent it from falling over by increasing and reducing the cart's\n",
    "    velocity.\n",
    "Source:\n",
    "    This environment corresponds to the version of the cart-pole problem\n",
    "    described by Barto, Sutton, and Anderson\n",
    "Observation:\n",
    "    Type: Box(4)\n",
    "    Num     Observation               Min                     Max\n",
    "    0       Cart Position             -4.8                    4.8\n",
    "    1       Cart Velocity             -Inf                    Inf\n",
    "    2       Pole Angle                -0.418 rad (-24 deg)    0.418 rad (24 deg)\n",
    "    3       Pole Angular Velocity     -Inf                    Inf\n",
    "Actions:\n",
    "    Type: Discrete(2)\n",
    "    Num   Action\n",
    "    0     Push cart to the left\n",
    "    1     Push cart to the right\n",
    "    Note: The amount the velocity that is reduced or increased is not\n",
    "    fixed; it depends on the angle the pole is pointing. This is because\n",
    "    the center of gravity of the pole increases the amount of energy needed\n",
    "    to move the cart underneath it\n",
    "Reward:\n",
    "    Reward is 1 for every step taken, including the termination step\n",
    "Starting State:\n",
    "    All observations are assigned a uniform random value in [-0.05..0.05]\n",
    "Episode Termination:\n",
    "    Pole Angle is more than 12 degrees.\n",
    "    Cart Position is more than 2.4 (center of the cart reaches the edge of\n",
    "    the display).\n",
    "    Episode length is greater than 200.|\n",
    "    Solved Requirements:\n",
    "    Considered solved when the average return is greater than or equal to\n",
    "    195.0 over 100 consecutive trials.\n",
    "\"\"\"\n",
    "# what to do? let's see what are the 4 observations:\n",
    "env = gym.make(\"CartPole-v1\")\n",
    "n_action = env.action_space.n\n",
    "n_states = env.observation_space.shape[0]\n",
    "input_shape= env.observation_space.shape\n",
    "print(\"action space:\", env.action_space)\n",
    "print(\"observation space:\", env.observation_space)\n",
    "print(\"input shape:\", input_shape)\n",
    "env.reset() "
   ]
  },
  {
   "cell_type": "code",
   "execution_count": 6,
   "id": "3a4283a2-fdac-412b-9558-1169376b2607",
   "metadata": {
    "pycharm": {
     "name": "#%%\n"
    }
   },
   "outputs": [],
   "source": [
    "# create a replay buffer\n",
    "Transition = namedtuple('Transition',\n",
    "                        ('state', 'action', 'next_state', 'reward', 'terminal'))\n",
    "\n",
    "\n",
    "class ReplayBuffer(object):\n",
    "\n",
    "    def __init__(self, capacity):\n",
    "        self.memory = deque([],maxlen=capacity)\n",
    "\n",
    "    def save(self, *args):\n",
    "        \"\"\"Save a transition\"\"\"\n",
    "        self.memory.append(Transition(*args))\n",
    "\n",
    "    def sample(self, batch_size):\n",
    "        return random.sample(self.memory, batch_size)\n",
    "\n",
    "    def __len__(self):\n",
    "        return len(self.memory)"
   ]
  },
  {
   "cell_type": "code",
   "execution_count": 7,
   "id": "98a8b8a8-d09c-4f3c-a51b-9787d7a7794b",
   "metadata": {
    "pycharm": {
     "name": "#%%\n"
    }
   },
   "outputs": [],
   "source": [
    "# miguel has an image based version, I need to start with a state based one... \n",
    "class simpleModel(nn.Module):\n",
    "\n",
    "    def __init__(self, in_features=n_states, outputs=n_action):\n",
    "        super(simpleModel, self).__init__()\n",
    "        self.linear1 = nn.Linear(in_features, 512)\n",
    "        self.linear2 = nn.Linear(512, 128)\n",
    "#         self.linear3 = nn.Linear(128, 64)\n",
    "        self.final = nn.Linear(128, outputs)\n",
    "        self.device = torch.device(device)\n",
    "        self.to(self.device)\n",
    "        \n",
    "    def _format(self, state):\n",
    "        x = state\n",
    "        if not isinstance(x, torch.Tensor):\n",
    "            x = torch.tensor(x, \n",
    "                             device=self.device, \n",
    "                             dtype=torch.float32)\n",
    "            x = x.unsqueeze(0)\n",
    "        return x\n",
    "\n",
    "    def forward(self, x):\n",
    "        x = self._format(x)\n",
    "        x = F.relu(self.linear1(x))\n",
    "        x = F.relu(self.linear2(x))\n",
    "#         x = F.relu(self.linear3(x))\n",
    "        x = F.relu(self.final(x))\n",
    "        return x\n",
    "    \n",
    "    def load(self, experiences):\n",
    "        batch = Transition(*zip(*experiences))\n",
    "        \n",
    "        states = np.array(batch.state)\n",
    "        actions = np.array(batch.action)\n",
    "        new_states = np.array(batch.next_state)\n",
    "        rewards = np.array(batch.reward)\n",
    "        is_terminals = np.array(batch.terminal)\n",
    "        \n",
    "        states = torch.from_numpy(states).float().to(device)\n",
    "        actions = torch.from_numpy(actions).long().to(device)\n",
    "        new_states = torch.from_numpy(new_states).float().to(device)\n",
    "        rewards = torch.from_numpy(rewards).float().to(device)\n",
    "        is_terminals = torch.from_numpy(is_terminals).float().to(device)\n",
    "        return states, actions, new_states, rewards, is_terminals"
   ]
  },
  {
   "cell_type": "code",
   "execution_count": 8,
   "id": "fedaf279-9af1-4ee9-a5a4-1909e42677e8",
   "metadata": {
    "pycharm": {
     "name": "#%%\n"
    }
   },
   "outputs": [
    {
     "name": "stdout",
     "output_type": "stream",
     "text": [
      "simpleModel(\n",
      "  (linear1): Linear(in_features=4, out_features=512, bias=True)\n",
      "  (linear2): Linear(in_features=512, out_features=128, bias=True)\n",
      "  (final): Linear(in_features=128, out_features=2, bias=True)\n",
      ")\n"
     ]
    }
   ],
   "source": [
    "online_model = simpleModel()\n",
    "target_model = simpleModel()\n",
    "print(online_model)"
   ]
  },
  {
   "cell_type": "code",
   "execution_count": 9,
   "id": "970b455c-8d12-409b-84f6-a8d2f7ced4e4",
   "metadata": {
    "pycharm": {
     "name": "#%%\n"
    }
   },
   "outputs": [],
   "source": [
    "# summary(online_model, input_size=(128, 4))"
   ]
  },
  {
   "cell_type": "code",
   "execution_count": 10,
   "id": "e2a0ffc8-d31d-4c57-ad7f-6f65cb41ea64",
   "metadata": {
    "pycharm": {
     "name": "#%%\n"
    }
   },
   "outputs": [],
   "source": [
    "# action selection strategy\n",
    "def e_greedy_policy(model, epsilon, state, action_space=n_action):\n",
    "    if np.random.random() < epsilon: # random action\n",
    "        return np.random.randint(action_space)\n",
    "    else:  # greedy\n",
    "        q_values = model(state).cpu().detach()\n",
    "        q_values = q_values.data.numpy()\n",
    "        return np.argmax(q_values)"
   ]
  },
  {
   "cell_type": "code",
   "execution_count": 11,
   "id": "b56c9ec4-5e9e-4e11-af31-c41a52bc255b",
   "metadata": {
    "pycharm": {
     "name": "#%%\n"
    }
   },
   "outputs": [
    {
     "name": "stdout",
     "output_type": "stream",
     "text": [
      "5005 entries saved to ReplayBuffer\n"
     ]
    }
   ],
   "source": [
    "# pre populate a starting library of experiences\n",
    "memory = ReplayBuffer(50000)\n",
    "initial_size = 5000\n",
    "\n",
    "while len(memory) < initial_size:\n",
    "    state = env.reset()\n",
    "    terminal = False\n",
    "    tmp_reward = 0\n",
    "    \n",
    "    while not terminal:\n",
    "        action = env.action_space.sample()\n",
    "        (next_state, reward, done, info) = env.step(action)\n",
    "        if \"TimeLimit\" in info:\n",
    "            print(info)\n",
    "            print(\"terminating episode...\")\n",
    "            done = False\n",
    "            terminal = True\n",
    "        memory.save(state, action, next_state, reward, done)\n",
    "        terminal = done\n",
    "        state = next_state\n",
    "        tmp_reward += reward\n",
    "print(len(memory), \"entries saved to ReplayBuffer\")"
   ]
  },
  {
   "cell_type": "code",
   "execution_count": 12,
   "id": "2f43e758-21f9-46e6-b2b8-51bdecf48ead",
   "metadata": {
    "pycharm": {
     "name": "#%%\n"
    }
   },
   "outputs": [
    {
     "name": "stderr",
     "output_type": "stream",
     "text": [
      "/home/jim/miniconda3/envs/torch/lib/python3.9/site-packages/numpy/core/fromnumeric.py:3440: RuntimeWarning: Mean of empty slice.\n",
      "  return _methods._mean(a, axis=axis, dtype=dtype,\n",
      "/home/jim/miniconda3/envs/torch/lib/python3.9/site-packages/numpy/core/_methods.py:189: RuntimeWarning: invalid value encountered in double_scalars\n",
      "  ret = ret.dtype.type(ret / rcount)\n"
     ]
    },
    {
     "name": "stdout",
     "output_type": "stream",
     "text": [
      "episode  0 avg_loss 0.083 epsilon 0.497 reward 16.0\n",
      "episode 10 avg_loss 0.003 epsilon 0.473 reward 13.0\n",
      "episode 20 avg_loss 0.034 epsilon 0.450 reward 10.0\n",
      "episode 30 avg_loss 0.083 epsilon 0.428 reward 21.0\n",
      "episode 40 avg_loss 0.243 epsilon 0.407 reward 326.0\n",
      "new best score 326.00 episode 40 rolling avg 15.500\n",
      "episode 50 avg_loss 0.687 epsilon 0.387 reward 114.0\n",
      "episode 60 avg_loss 2.044 epsilon 0.368 reward 115.0\n",
      "episode 70 avg_loss 3.915 epsilon 0.350 reward 47.0\n",
      "new best score 330.00 episode 72 rolling avg 60.458\n",
      "episode 80 avg_loss 4.549 epsilon 0.333 reward 237.0\n",
      "episode 90 avg_loss 7.478 epsilon 0.317 reward 66.0\n",
      "episode 100 avg_loss 9.460 epsilon 0.301 reward 265.0\n",
      "episode 110 avg_loss 9.096 epsilon 0.287 reward 220.0\n",
      "episode 120 avg_loss 9.774 epsilon 0.273 reward 148.0\n",
      "episode 130 avg_loss 10.426 epsilon 0.259 reward 500.0\n",
      "new best score 500.00 episode 130 rolling avg 133.820\n",
      "episode 140 avg_loss 13.020 epsilon 0.247 reward 156.0\n",
      "episode 150 avg_loss 12.055 epsilon 0.235 reward 177.0\n",
      "episode 160 avg_loss 11.085 epsilon 0.223 reward 195.0\n",
      "episode 170 avg_loss 22.424 epsilon 0.212 reward 251.0\n",
      "!!! exceeded benchmark at epoch 174 rolling average 202.110\n"
     ]
    }
   ],
   "source": [
    "n_episodes = 750\n",
    "reward_record = []\n",
    "avg_record = []\n",
    "best_score = 75\n",
    "update_interval = 150\n",
    "epsilon=0.5\n",
    "eps_decay = 0.995\n",
    "batch_size = 64\n",
    "learning_rate = 0.0005\n",
    "gamma=1\n",
    "# optimizer = optim.Adam(online_model.parameters(), lr=learning_rate)\n",
    "optimizer = optim.RMSprop(online_model.parameters(), lr=learning_rate)\n",
    "count = 0\n",
    "solved = False\n",
    "\n",
    "for episode in range(n_episodes):\n",
    "    state = env.reset()\n",
    "    terminal = False\n",
    "    tmp_reward = 0\n",
    "    epoch_loss_list = []\n",
    "    if solved:\n",
    "        break\n",
    "    \n",
    "    while not terminal:         \n",
    "        # select action\n",
    "        action = e_greedy_policy(online_model, epsilon, state, action_space=n_action)\n",
    "        (next_state, reward, done, info) = env.step(action)\n",
    "        # handle cases when it reaches a time limit but not actually terminal\n",
    "        if \"TimeLimit\" in info:\n",
    "            print(info)\n",
    "            print(\"terminating episode...\")\n",
    "            done = False\n",
    "            terminal = True\n",
    "        memory.save(state, action, next_state, reward, done)\n",
    "        terminal = done\n",
    "        state = next_state\n",
    "        tmp_reward += reward\n",
    "        count += 1\n",
    "        \n",
    "        # sample random minibatch\n",
    "        transitions = memory.sample(batch_size)\n",
    "        (states, actions, new_states, rewards, is_terminals) = online_model.load(transitions)\n",
    "        \n",
    "        # Q target\n",
    "        continue_mask = 1 - is_terminals  # if terminal, then = 0\n",
    "        Q_next = target_model(new_states).detach()  # gradient does NOT involve the target\n",
    "        Q_next_max = Q_next.max(1)[0]  # (batch_size)\n",
    "        Q_target = rewards + Q_next_max * continue_mask * gamma\n",
    "        Q_target = Q_target.unsqueeze(1) # (batch_size x 1)\n",
    "\n",
    "        # fit the model\n",
    "        Q_values = online_model(states).gather(1, actions.unsqueeze(1)) # batch_size x 1\n",
    "#             MSE = (Q_values - Q_target).pow(2).mul(0.5).mean()\n",
    "#             criterion = nn.SmoothL1Loss()\n",
    "        criterion = torch.nn.MSELoss()\n",
    "        # td_error = Q_values - Q_target\n",
    "        # value_loss = td_error.pow(2).mul(0.5).mean()\n",
    "        loss = criterion(Q_values, Q_target)\n",
    "        loss_value = loss.data.cpu().numpy().copy()\n",
    "        epoch_loss_list.append(loss_value)\n",
    "\n",
    "        # optimize\n",
    "        optimizer.zero_grad()\n",
    "        loss.backward()\n",
    "        optimizer.step()\n",
    "        \n",
    "        # update target network periodically\n",
    "        if count % update_interval == 0:\n",
    "#             print(\"updating target model\")\n",
    "            for target, online in zip(target_model.parameters(), online_model.parameters()):\n",
    "                target.data.copy_(online.data)\n",
    "\n",
    "    rolling_average = np.mean(reward_record[-100:])\n",
    "    reward_record.append(tmp_reward)\n",
    "    avg_record.append(rolling_average)\n",
    "    avg_loss = np.average(epoch_loss_list)\n",
    "    epsilon = max(epsilon*eps_decay, 0.005)\n",
    "    if episode % 10 == 0:\n",
    "         print(f\"episode {episode:2d} avg_loss {avg_loss:3.3f} epsilon {epsilon:3.3f} reward {tmp_reward}\")\n",
    "\n",
    "    if not solved:\n",
    "        if rolling_average > 200:\n",
    "            print(f\"!!! exceeded benchmark at epoch {episode} rolling average {rolling_average:.3f}\")\n",
    "            solved = True\n",
    "    if tmp_reward > best_score:\n",
    "        best_score = tmp_reward\n",
    "        print(f\"new best score {best_score:.2f} episode {episode} rolling avg {rolling_average:.3f}\")\n",
    "    "
   ]
  },
  {
   "cell_type": "code",
   "execution_count": 13,
   "id": "c511aa66-a9ab-42b9-b999-1440f555e47f",
   "metadata": {
    "pycharm": {
     "name": "#%%\n"
    }
   },
   "outputs": [
    {
     "data": {
      "text/plain": "<matplotlib.legend.Legend at 0x7fb4dc149fd0>"
     },
     "execution_count": 13,
     "metadata": {},
     "output_type": "execute_result"
    },
    {
     "data": {
      "text/plain": "<Figure size 576x396 with 1 Axes>",
      "image/png": "[encoded data removed]"
     },
     "metadata": {},
     "output_type": "display_data"
    }
   ],
   "source": [
    "plt.style.use('seaborn')\n",
    "plt.plot(avg_record, label='100 episode rolling avg')\n",
    "plt.plot(reward_record, alpha=0.7, label='rewards')\n",
    "plt.legend()"
   ]
  },
  {
   "cell_type": "code",
   "execution_count": 48,
   "id": "9359ecc7-8e2e-4d41-aaa3-f26e5c1469f0",
   "metadata": {
    "pycharm": {
     "name": "#%%\n"
    }
   },
   "outputs": [],
   "source": [
    "def run_dqn():\n",
    "    online_model = simpleModel()\n",
    "    target_model = simpleModel()\n",
    "    \n",
    "    n_episodes = 1000\n",
    "    reward_record = []\n",
    "    avg_record = [0]\n",
    "    best_score = 75\n",
    "    update_interval = 150\n",
    "    epsilon=0.5\n",
    "    batch_size = 64\n",
    "    learning_rate = 0.0005\n",
    "    gamma=1\n",
    "    # optimizer = optim.Adam(online_model.parameters(), lr=learning_rate)\n",
    "    optimizer = optim.Adam(online_model.parameters(), lr=learning_rate)\n",
    "    count = 0\n",
    "\n",
    "    for episode in range(n_episodes):\n",
    "        state = env.reset()\n",
    "        terminal = False\n",
    "        tmp_reward = 0\n",
    "\n",
    "        while not terminal:         \n",
    "            # select action\n",
    "            action = e_greedy_policy(online_model, epsilon, state, action_space=n_action)\n",
    "            (next_state, reward, done, info) = env.step(action)\n",
    "            # handle cases when it reaches a time limit but not actually terminal\n",
    "            if (\"TimeLimit\" in info):\n",
    "                print(info)\n",
    "                print(\"terminating episode...\")\n",
    "                done = False\n",
    "                terminal = True\n",
    "            memory.save(state, action, next_state, reward, done)\n",
    "            terminal = done\n",
    "            state = next_state\n",
    "            tmp_reward += reward\n",
    "            count += 1\n",
    "\n",
    "            # sample random minibatch\n",
    "            transitions = memory.sample(batch_size)\n",
    "            (states, actions, new_states, rewards, is_terminals) = online_model.load(transitions)\n",
    "\n",
    "            # Q target\n",
    "            continue_mask = 1 - is_terminals  # if terminal, then = 0\n",
    "            Q_next = target_model(new_states).detach()  # gradient does NOT involve the target\n",
    "            Q_next_max = Q_next.max(1)[0]  # (batch_size)\n",
    "            Q_target = rewards + Q_next_max * continue_mask * gamma\n",
    "            Q_target = Q_target.unsqueeze(1) # (batch_size x 1)\n",
    "\n",
    "            # fit the model\n",
    "            Q_values = online_model(states).gather(1, actions.unsqueeze(1)) # batch_size x 1\n",
    "    #             MSE = (Q_values - Q_target).pow(2).mul(0.5).mean()\n",
    "    #             criterion = nn.SmoothL1Loss()\n",
    "            criterion = torch.nn.MSELoss()\n",
    "            # td_error = Q_values - Q_target\n",
    "            # value_loss = td_error.pow(2).mul(0.5).mean()\n",
    "            loss = criterion(Q_values, Q_target)\n",
    "            loss_value = loss.data.cpu().numpy().copy()\n",
    "\n",
    "            # optimize\n",
    "            optimizer.zero_grad()\n",
    "            loss.backward()\n",
    "            optimizer.step()\n",
    "\n",
    "            # update target network periodically\n",
    "            if count % update_interval == 0:\n",
    "    #             print(\"updating target model\")\n",
    "                for target, online in zip(target_model.parameters(), online_model.parameters()):\n",
    "                    target.data.copy_(online.data)\n",
    "\n",
    "        rolling_average = np.mean(reward_record[-100:])\n",
    "        reward_record.append(tmp_reward)\n",
    "        avg_record.append(rolling_average)\n",
    "        epsilon = max(epsilon*eps_decay, 0.005)\n",
    "    return reward_record, avg_record"
   ]
  },
  {
   "cell_type": "code",
   "execution_count": 49,
   "id": "c2b7114f-db34-4f13-9299-336d2a8ca09a",
   "metadata": {
    "pycharm": {
     "name": "#%%\n"
    }
   },
   "outputs": [
    {
     "name": "stderr",
     "output_type": "stream",
     "text": [
      "/home/jim/Documents/Classes/CS7641/MachineLearning/mlenv/lib/python3.9/site-packages/numpy/core/fromnumeric.py:3474: RuntimeWarning: Mean of empty slice.\n",
      "  return _methods._mean(a, axis=axis, dtype=dtype,\n",
      "/home/jim/Documents/Classes/CS7641/MachineLearning/mlenv/lib/python3.9/site-packages/numpy/core/_methods.py:189: RuntimeWarning: invalid value encountered in double_scalars\n",
      "  ret = ret.dtype.type(ret / rcount)\n"
     ]
    },
    {
     "name": "stdout",
     "output_type": "stream",
     "text": [
      "rep max rolling rewards 451.99\n",
      "rep max rolling rewards 15.0\n",
      "rep max rolling rewards 364.61\n",
      "rep max rolling rewards 397.86\n",
      "rep max rolling rewards 402.71\n",
      "CPU times: user 16min 40s, sys: 6.98 s, total: 16min 47s\n",
      "Wall time: 16min 43s\n"
     ]
    }
   ],
   "source": [
    "%%time\n",
    "rolling_record = []\n",
    "for trial in range(5):\n",
    "    rewards_record, avg_record = run_dqn()\n",
    "    rolling_record.append(avg_record)\n",
    "    print(\"rep max rolling rewards\", max(avg_record))"
   ]
  },
  {
   "cell_type": "code",
   "execution_count": 50,
   "id": "24eb76f9-6f10-414f-9e29-9fee7dc04b98",
   "metadata": {
    "pycharm": {
     "name": "#%%\n"
    }
   },
   "outputs": [
    {
     "data": {
      "image/png": "[encoded data removed]",
      "text/plain": [
       "<Figure size 576x396 with 1 Axes>"
      ]
     },
     "metadata": {},
     "output_type": "display_data"
    }
   ],
   "source": [
    "plt.style.use('seaborn')\n",
    "plt.figure()\n",
    "plt.title('Cart Pole DQN', fontsize = 18)\n",
    "plt.xlabel(\"Number of Episodes\", fontsize=14)\n",
    "plt.ylabel(\"100 Episodes Rolling Average Rewards\", fontsize=14)\n",
    "for record in rolling_record:\n",
    "    plt.plot(record)\n",
    "plt.savefig(\"Cartpole_dqn.png\")"
   ]
  },
  {
   "cell_type": "code",
   "execution_count": 55,
   "id": "14e7db2f-b4ee-41e8-95ac-161195dfc9a8",
   "metadata": {
    "pycharm": {
     "name": "#%%\n"
    }
   },
   "outputs": [],
   "source": [
    "# np.save('dqn_results.npy', np.array(rolling_record))\n",
    "# np.load('dqn_results.npy')"
   ]
  },
  {
   "cell_type": "code",
   "execution_count": 96,
   "id": "bcbcdcc4-3f34-4ca0-82b6-42c5e0e0619d",
   "metadata": {
    "pycharm": {
     "name": "#%%\n"
    }
   },
   "outputs": [
    {
     "name": "stdout",
     "output_type": "stream",
     "text": [
      "simpleModel_1024_258.pth loaded\n"
     ]
    }
   ],
   "source": [
    "# # load saved model\n",
    "# model = simpleModel()\n",
    "# optimizer = optim.Adam(model.parameters())\n",
    "\n",
    "# checkpoint = torch.load(name)\n",
    "# print(name, \"loaded\")\n",
    "# model.load_state_dict(checkpoint['model_state_dict'])\n",
    "# optimizer.load_state_dict(checkpoint['optimizer_state_dict'])\n",
    "# epoch = checkpoint['epoch']\n",
    "# loss = checkpoint['loss']"
   ]
  },
  {
   "cell_type": "code",
   "execution_count": 27,
   "id": "1763641d-e603-4e41-b412-6008d97c975c",
   "metadata": {
    "pycharm": {
     "name": "#%%\n"
    }
   },
   "outputs": [
    {
     "ename": "NameError",
     "evalue": "name 'model' is not defined",
     "output_type": "error",
     "traceback": [
      "\u001B[0;31m---------------------------------------------------------------------------\u001B[0m",
      "\u001B[0;31mNameError\u001B[0m                                 Traceback (most recent call last)",
      "Input \u001B[0;32mIn [27]\u001B[0m, in \u001B[0;36m<cell line: 3>\u001B[0;34m()\u001B[0m\n\u001B[1;32m      4\u001B[0m env\u001B[38;5;241m.\u001B[39mrender()\n\u001B[1;32m      5\u001B[0m epsilon \u001B[38;5;241m=\u001B[39m \u001B[38;5;241m0.005\u001B[39m\n\u001B[0;32m----> 6\u001B[0m action \u001B[38;5;241m=\u001B[39m e_greedy_policy(\u001B[43mmodel\u001B[49m, epsilon, state, action_space\u001B[38;5;241m=\u001B[39mn_action)\n\u001B[1;32m      7\u001B[0m state, reward, done, info \u001B[38;5;241m=\u001B[39m env\u001B[38;5;241m.\u001B[39mstep(action)\n\u001B[1;32m      8\u001B[0m \u001B[38;5;28;01mif\u001B[39;00m done:\n",
      "\u001B[0;31mNameError\u001B[0m: name 'model' is not defined"
     ]
    }
   ],
   "source": [
    "# let's see what the model has learned\n",
    "obervations = env.reset()\n",
    "for i in range(3):\n",
    "    env.render()\n",
    "    epsilon = 0.005\n",
    "    action = e_greedy_policy(online_model, epsilon, state, action_space=n_action)\n",
    "    state, reward, done, info = env.step(action)\n",
    "    if done:\n",
    "        observation = env.reset()\n",
    "env.close()"
   ]
  },
  {
   "cell_type": "code",
   "execution_count": null,
   "id": "31c9cc5e-7d47-49ec-9e5c-15f0da2a1aad",
   "metadata": {
    "pycharm": {
     "name": "#%%\n"
    }
   },
   "outputs": [],
   "source": []
  }
 ],
 "metadata": {
  "kernelspec": {
   "display_name": "Python 3 (ipykernel)",
   "language": "python",
   "name": "python3"
  },
  "language_info": {
   "codemirror_mode": {
    "name": "ipython",
    "version": 3
   },
   "file_extension": ".py",
   "mimetype": "text/x-python",
   "name": "python",
   "nbconvert_exporter": "python",
   "pygments_lexer": "ipython3",
   "version": "3.9.7"
  }
 },
 "nbformat": 4,
 "nbformat_minor": 5
}